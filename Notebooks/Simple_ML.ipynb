{
  "nbformat": 4,
  "nbformat_minor": 0,
  "metadata": {
    "colab": {
      "name": "Simple ML.ipynb",
      "provenance": [],
      "collapsed_sections": [],
      "include_colab_link": true
    },
    "kernelspec": {
      "name": "python3",
      "display_name": "Python 3"
    }
  },
  "cells": [
    {
      "cell_type": "markdown",
      "metadata": {
        "id": "view-in-github",
        "colab_type": "text"
      },
      "source": [
        "<a href=\"https://colab.research.google.com/github/wagnerdsc/simple_ml_for_learn/blob/main/Notebooks/Simple_ML.ipynb\" target=\"_parent\"><img src=\"https://colab.research.google.com/assets/colab-badge.svg\" alt=\"Open In Colab\"/></a>"
      ]
    },
    {
      "cell_type": "markdown",
      "metadata": {
        "id": "yj0QwOSrjAc3"
      },
      "source": [
        "Este é um exemplo de Machine Learning muito simples criado para fins de aprendizado.\n",
        "\n",
        "A modelo \"aprende\" quando você deve levar um casaco para outros países, com base na temperatura em celsius."
      ]
    },
    {
      "cell_type": "code",
      "metadata": {
        "id": "cTanJpDpmmPe"
      },
      "source": [
        "temperature = [[30],  [12], [14], [18], [25],  [5],  [15], [27]]\n",
        "coat =        [False, True, True, True, False, True, True, False]"
      ],
      "execution_count": null,
      "outputs": []
    },
    {
      "cell_type": "code",
      "metadata": {
        "id": "cTskv-S7rmTX",
        "colab": {
          "base_uri": "https://localhost:8080/"
        },
        "outputId": "aa3b13b7-63ee-4dc0-bb42-352af1371458"
      },
      "source": [
        "from sklearn.linear_model import LogisticRegression\n",
        "\n",
        "classifier = LogisticRegression()\n",
        "classifier.fit(temperature, coat)"
      ],
      "execution_count": null,
      "outputs": [
        {
          "output_type": "execute_result",
          "data": {
            "text/plain": [
              "LogisticRegression(C=1.0, class_weight=None, dual=False, fit_intercept=True,\n",
              "                   intercept_scaling=1, l1_ratio=None, max_iter=100,\n",
              "                   multi_class='auto', n_jobs=None, penalty='l2',\n",
              "                   random_state=None, solver='lbfgs', tol=0.0001, verbose=0,\n",
              "                   warm_start=False)"
            ]
          },
          "metadata": {
            "tags": []
          },
          "execution_count": 2
        }
      ]
    },
    {
      "cell_type": "code",
      "metadata": {
        "id": "yzGprYMDov1W",
        "colab": {
          "base_uri": "https://localhost:8080/"
        },
        "outputId": "e63c4f3e-70db-4d89-ba42-55c27042d549"
      },
      "source": [
        "should_wear_coat = [[22], [1], [26], [15]]\n",
        "classifier.predict(should_wear_coat)"
      ],
      "execution_count": null,
      "outputs": [
        {
          "output_type": "execute_result",
          "data": {
            "text/plain": [
              "array([False,  True, False,  True])"
            ]
          },
          "metadata": {
            "tags": []
          },
          "execution_count": 3
        }
      ]
    }
  ]
}